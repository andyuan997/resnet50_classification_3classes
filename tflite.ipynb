{
 "cells": [
  {
   "cell_type": "code",
   "execution_count": 1,
   "id": "7fce5c29-494a-4231-ae13-6a18b8afdd7b",
   "metadata": {},
   "outputs": [],
   "source": [
    "import tensorflow as tf\n",
    "from tensorflow.keras.preprocessing.image import ImageDataGenerator\n",
    "from tensorflow.keras import backend as K\n",
    "\n",
    "from tensorflow.python.keras.models import load_model"
   ]
  },
  {
   "cell_type": "code",
   "execution_count": 2,
   "id": "1145699d-6299-4482-ae7d-4cc6a9f74509",
   "metadata": {},
   "outputs": [
    {
     "data": {
      "text/plain": [
       "'2.3.0'"
      ]
     },
     "execution_count": 2,
     "metadata": {},
     "output_type": "execute_result"
    }
   ],
   "source": [
    "K.clear_session()\n",
    "\n",
    "model=tf.keras.models.load_model('./model_resnet50_100.h5')\n",
    "tc=tf.lite.TFLiteConverter.from_keras_model(model)\n",
    "\n",
    "tf.__version__"
   ]
  },
  {
   "cell_type": "code",
   "execution_count": 3,
   "id": "4733321c-26fa-4792-a8a4-bafedac7611b",
   "metadata": {},
   "outputs": [],
   "source": [
    "import cv2 as cv\n",
    "import numpy as np\n",
    "import os, glob, time\n",
    "\n",
    "w = 224\n",
    "h = 224\n",
    "c = 3\n",
    "\n",
    "train_path='./train'\n",
    "val_path='./test'"
   ]
  },
  {
   "cell_type": "code",
   "execution_count": 4,
   "id": "9ca6176a-d787-445a-b9f2-fe8252cae26e",
   "metadata": {},
   "outputs": [],
   "source": [
    "def read_image(path):\n",
    "    label_dir = [path+'\\\\'+x for x in os.listdir(path) if os.path.isdir(path+'\\\\'+x)]\n",
    "    files=[]\n",
    "    labels=[]\n",
    "    for index,folder in enumerate(label_dir):\n",
    "        print(index,folder)\n",
    "        for imgpath in glob.glob(folder+'\\\\*.*'):\n",
    "            files.append(imgpath)\n",
    "            labels.append(index)\n",
    "        print('%s --> Load Iamge:%d'%(path,len(labels)))\n",
    "        files=np.asarray(files,dtype=np.str)\n",
    "        labels=np.asarray(labels,dtype=np.int)\n",
    "        num=labels.shape[0]\n",
    "        return files,labels,num\n"
   ]
  },
  {
   "cell_type": "code",
   "execution_count": 5,
   "id": "554445bd-4569-48b6-bf1e-a1c109b45445",
   "metadata": {},
   "outputs": [
    {
     "name": "stdout",
     "output_type": "stream",
     "text": [
      "0 ./train\\left\n",
      "./train --> Load Iamge:364\n",
      "0 ./test\\left\n",
      "./test --> Load Iamge:191\n"
     ]
    },
    {
     "name": "stderr",
     "output_type": "stream",
     "text": [
      "c:\\users\\andy\\anaconda3\\envs\\robot_tflite\\lib\\site-packages\\ipykernel_launcher.py:11: DeprecationWarning: `np.str` is a deprecated alias for the builtin `str`. To silence this warning, use `str` by itself. Doing this will not modify any behavior and is safe. If you specifically wanted the numpy scalar type, use `np.str_` here.\n",
      "Deprecated in NumPy 1.20; for more details and guidance: https://numpy.org/devdocs/release/1.20.0-notes.html#deprecations\n",
      "  # This is added back by InteractiveShellApp.init_path()\n",
      "c:\\users\\andy\\anaconda3\\envs\\robot_tflite\\lib\\site-packages\\ipykernel_launcher.py:12: DeprecationWarning: `np.int` is a deprecated alias for the builtin `int`. To silence this warning, use `int` by itself. Doing this will not modify any behavior and is safe. When replacing `np.int`, you may wish to use e.g. `np.int64` or `np.int32` to specify the precision. If you wish to review your current use, check the release note link for additional information.\n",
      "Deprecated in NumPy 1.20; for more details and guidance: https://numpy.org/devdocs/release/1.20.0-notes.html#deprecations\n",
      "  if sys.path[0] == '':\n"
     ]
    }
   ],
   "source": [
    "train_images,train_labels,train_image_num = read_image(train_path)\n",
    "val_images,val_labels,val_image_num = read_image(val_path)"
   ]
  },
  {
   "cell_type": "code",
   "execution_count": 6,
   "id": "f1164c6c-e165-4ba7-8092-87f8a9062948",
   "metadata": {},
   "outputs": [],
   "source": [
    "def representative_dataset_gen():\n",
    "    global train_images\n",
    "    images=train_images\n",
    "    file_index = np.arange(images.shape[0])\n",
    "    np.random.shuffle(file_index)\n",
    "    file_shuffe = images[file_index]\n",
    "    for file_name in file_shuffe[0:5000]:\n",
    "        img=cv.imread(file_name)\n",
    "        img=img.astype(np.float32)/255.0\n",
    "        img=cv.resize(img,(w,h))\n",
    "        img=cv.cvtColor(img,cv.COLOR_BGR2RGB)\n",
    "        img=img.reshape((w,h,c))\n",
    "        img=np.expand_dims(img,0)\n",
    "        yield [img]"
   ]
  },
  {
   "cell_type": "code",
   "execution_count": 7,
   "id": "9e566a56-c10e-4f62-80a1-3d0e18f27902",
   "metadata": {},
   "outputs": [
    {
     "name": "stdout",
     "output_type": "stream",
     "text": [
      "WARNING:tensorflow:From c:\\users\\andy\\anaconda3\\envs\\robot_tflite\\lib\\site-packages\\tensorflow\\python\\training\\tracking\\tracking.py:111: Model.state_updates (from tensorflow.python.keras.engine.training) is deprecated and will be removed in a future version.\n",
      "Instructions for updating:\n",
      "This property should not be used in TensorFlow 2.0, as updates are applied automatically.\n",
      "WARNING:tensorflow:From c:\\users\\andy\\anaconda3\\envs\\robot_tflite\\lib\\site-packages\\tensorflow\\python\\training\\tracking\\tracking.py:111: Layer.updates (from tensorflow.python.keras.engine.base_layer) is deprecated and will be removed in a future version.\n",
      "Instructions for updating:\n",
      "This property should not be used in TensorFlow 2.0, as updates are applied automatically.\n",
      "INFO:tensorflow:Assets written to: C:\\Users\\andy\\AppData\\Local\\Temp\\tmpelyorn5q\\assets\n"
     ]
    }
   ],
   "source": [
    "tc.optimizations=[tf.lite.Optimize.DEFAULT]\n",
    "tc.target_spec.supported_ops=[tf.lite.OpsSet.TFLITE_BUILTINS_INT8]\n",
    "tc.inference_input_type=tf.uint8\n",
    "tc.inference_output_type=tf.uint8\n",
    "tc.representative_dataset=representative_dataset_gen\n",
    "tflite=tc.convert()"
   ]
  },
  {
   "cell_type": "code",
   "execution_count": 8,
   "id": "da24a818-c9ae-43ce-be44-6e73ecebdac5",
   "metadata": {},
   "outputs": [
    {
     "name": "stdout",
     "output_type": "stream",
     "text": [
      "OK!!!\n"
     ]
    }
   ],
   "source": [
    "with tf.io.gfile.GFile('./model_resnet50.tflite','wb') as f:\n",
    "    f.write(tflite)\n",
    "print('OK!!!')"
   ]
  },
  {
   "cell_type": "code",
   "execution_count": null,
   "id": "9b50c3dd-7e3a-4117-aefc-9c3c5383437f",
   "metadata": {},
   "outputs": [],
   "source": []
  }
 ],
 "metadata": {
  "kernelspec": {
   "display_name": "Python 3",
   "language": "python",
   "name": "python3"
  },
  "language_info": {
   "codemirror_mode": {
    "name": "ipython",
    "version": 3
   },
   "file_extension": ".py",
   "mimetype": "text/x-python",
   "name": "python",
   "nbconvert_exporter": "python",
   "pygments_lexer": "ipython3",
   "version": "3.7.10"
  }
 },
 "nbformat": 4,
 "nbformat_minor": 5
}
